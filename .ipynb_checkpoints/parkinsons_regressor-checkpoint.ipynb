{
 "cells": [
  {
   "cell_type": "code",
   "execution_count": 1,
   "id": "ddf157c5-84b3-4433-a555-da3193e6161e",
   "metadata": {
    "colab": {
     "base_uri": "https://localhost:8080/",
     "height": 393
    },
    "id": "ddf157c5-84b3-4433-a555-da3193e6161e",
    "outputId": "cba76bc4-3d04-43cd-c023-fdef7f435cac"
   },
   "outputs": [
    {
     "data": {
      "text/html": [
       "<div>\n",
       "<style scoped>\n",
       "    .dataframe tbody tr th:only-of-type {\n",
       "        vertical-align: middle;\n",
       "    }\n",
       "\n",
       "    .dataframe tbody tr th {\n",
       "        vertical-align: top;\n",
       "    }\n",
       "\n",
       "    .dataframe thead th {\n",
       "        text-align: right;\n",
       "    }\n",
       "</style>\n",
       "<table border=\"1\" class=\"dataframe\">\n",
       "  <thead>\n",
       "    <tr style=\"text-align: right;\">\n",
       "      <th></th>\n",
       "      <th>index</th>\n",
       "      <th>subject#</th>\n",
       "      <th>age</th>\n",
       "      <th>sex</th>\n",
       "      <th>test_time</th>\n",
       "      <th>motor_UPDRS</th>\n",
       "      <th>total_UPDRS</th>\n",
       "      <th>Jitter(%)</th>\n",
       "      <th>Jitter(Abs)</th>\n",
       "      <th>Jitter:RAP</th>\n",
       "      <th>...</th>\n",
       "      <th>Shimmer(dB)</th>\n",
       "      <th>Shimmer:APQ3</th>\n",
       "      <th>Shimmer:APQ5</th>\n",
       "      <th>Shimmer:APQ11</th>\n",
       "      <th>Shimmer:DDA</th>\n",
       "      <th>NHR</th>\n",
       "      <th>HNR</th>\n",
       "      <th>RPDE</th>\n",
       "      <th>DFA</th>\n",
       "      <th>PPE</th>\n",
       "    </tr>\n",
       "  </thead>\n",
       "  <tbody>\n",
       "    <tr>\n",
       "      <th>count</th>\n",
       "      <td>5875.000000</td>\n",
       "      <td>5875.000000</td>\n",
       "      <td>5875.000000</td>\n",
       "      <td>5875.000000</td>\n",
       "      <td>5875.000000</td>\n",
       "      <td>5875.000000</td>\n",
       "      <td>5875.000000</td>\n",
       "      <td>5875.000000</td>\n",
       "      <td>5875.000000</td>\n",
       "      <td>5875.000000</td>\n",
       "      <td>...</td>\n",
       "      <td>5875.000000</td>\n",
       "      <td>5875.000000</td>\n",
       "      <td>5875.000000</td>\n",
       "      <td>5875.000000</td>\n",
       "      <td>5875.000000</td>\n",
       "      <td>5875.000000</td>\n",
       "      <td>5875.000000</td>\n",
       "      <td>5875.000000</td>\n",
       "      <td>5875.000000</td>\n",
       "      <td>5875.000000</td>\n",
       "    </tr>\n",
       "    <tr>\n",
       "      <th>mean</th>\n",
       "      <td>2937.000000</td>\n",
       "      <td>21.494128</td>\n",
       "      <td>64.804936</td>\n",
       "      <td>0.317787</td>\n",
       "      <td>92.863722</td>\n",
       "      <td>21.296229</td>\n",
       "      <td>29.018942</td>\n",
       "      <td>0.006154</td>\n",
       "      <td>0.000044</td>\n",
       "      <td>0.002987</td>\n",
       "      <td>...</td>\n",
       "      <td>0.310960</td>\n",
       "      <td>0.017156</td>\n",
       "      <td>0.020144</td>\n",
       "      <td>0.027481</td>\n",
       "      <td>0.051467</td>\n",
       "      <td>0.032120</td>\n",
       "      <td>21.679495</td>\n",
       "      <td>0.541473</td>\n",
       "      <td>0.653240</td>\n",
       "      <td>0.219589</td>\n",
       "    </tr>\n",
       "    <tr>\n",
       "      <th>std</th>\n",
       "      <td>1696.110747</td>\n",
       "      <td>12.372279</td>\n",
       "      <td>8.821524</td>\n",
       "      <td>0.465656</td>\n",
       "      <td>53.445602</td>\n",
       "      <td>8.129282</td>\n",
       "      <td>10.700283</td>\n",
       "      <td>0.005624</td>\n",
       "      <td>0.000036</td>\n",
       "      <td>0.003124</td>\n",
       "      <td>...</td>\n",
       "      <td>0.230254</td>\n",
       "      <td>0.013237</td>\n",
       "      <td>0.016664</td>\n",
       "      <td>0.019986</td>\n",
       "      <td>0.039711</td>\n",
       "      <td>0.059692</td>\n",
       "      <td>4.291096</td>\n",
       "      <td>0.100986</td>\n",
       "      <td>0.070902</td>\n",
       "      <td>0.091498</td>\n",
       "    </tr>\n",
       "    <tr>\n",
       "      <th>min</th>\n",
       "      <td>0.000000</td>\n",
       "      <td>1.000000</td>\n",
       "      <td>36.000000</td>\n",
       "      <td>0.000000</td>\n",
       "      <td>-4.262500</td>\n",
       "      <td>5.037700</td>\n",
       "      <td>7.000000</td>\n",
       "      <td>0.000830</td>\n",
       "      <td>0.000002</td>\n",
       "      <td>0.000330</td>\n",
       "      <td>...</td>\n",
       "      <td>0.026000</td>\n",
       "      <td>0.001610</td>\n",
       "      <td>0.001940</td>\n",
       "      <td>0.002490</td>\n",
       "      <td>0.004840</td>\n",
       "      <td>0.000286</td>\n",
       "      <td>1.659000</td>\n",
       "      <td>0.151020</td>\n",
       "      <td>0.514040</td>\n",
       "      <td>0.021983</td>\n",
       "    </tr>\n",
       "    <tr>\n",
       "      <th>25%</th>\n",
       "      <td>1468.500000</td>\n",
       "      <td>10.000000</td>\n",
       "      <td>58.000000</td>\n",
       "      <td>0.000000</td>\n",
       "      <td>46.847500</td>\n",
       "      <td>15.000000</td>\n",
       "      <td>21.371000</td>\n",
       "      <td>0.003580</td>\n",
       "      <td>0.000022</td>\n",
       "      <td>0.001580</td>\n",
       "      <td>...</td>\n",
       "      <td>0.175000</td>\n",
       "      <td>0.009280</td>\n",
       "      <td>0.010790</td>\n",
       "      <td>0.015665</td>\n",
       "      <td>0.027830</td>\n",
       "      <td>0.010955</td>\n",
       "      <td>19.406000</td>\n",
       "      <td>0.469785</td>\n",
       "      <td>0.596180</td>\n",
       "      <td>0.156340</td>\n",
       "    </tr>\n",
       "    <tr>\n",
       "      <th>50%</th>\n",
       "      <td>2937.000000</td>\n",
       "      <td>22.000000</td>\n",
       "      <td>65.000000</td>\n",
       "      <td>0.000000</td>\n",
       "      <td>91.523000</td>\n",
       "      <td>20.871000</td>\n",
       "      <td>27.576000</td>\n",
       "      <td>0.004900</td>\n",
       "      <td>0.000035</td>\n",
       "      <td>0.002250</td>\n",
       "      <td>...</td>\n",
       "      <td>0.253000</td>\n",
       "      <td>0.013700</td>\n",
       "      <td>0.015940</td>\n",
       "      <td>0.022710</td>\n",
       "      <td>0.041110</td>\n",
       "      <td>0.018448</td>\n",
       "      <td>21.920000</td>\n",
       "      <td>0.542250</td>\n",
       "      <td>0.643600</td>\n",
       "      <td>0.205500</td>\n",
       "    </tr>\n",
       "    <tr>\n",
       "      <th>75%</th>\n",
       "      <td>4405.500000</td>\n",
       "      <td>33.000000</td>\n",
       "      <td>72.000000</td>\n",
       "      <td>1.000000</td>\n",
       "      <td>138.445000</td>\n",
       "      <td>27.596500</td>\n",
       "      <td>36.399000</td>\n",
       "      <td>0.006800</td>\n",
       "      <td>0.000053</td>\n",
       "      <td>0.003290</td>\n",
       "      <td>...</td>\n",
       "      <td>0.365000</td>\n",
       "      <td>0.020575</td>\n",
       "      <td>0.023755</td>\n",
       "      <td>0.032715</td>\n",
       "      <td>0.061735</td>\n",
       "      <td>0.031463</td>\n",
       "      <td>24.444000</td>\n",
       "      <td>0.614045</td>\n",
       "      <td>0.711335</td>\n",
       "      <td>0.264490</td>\n",
       "    </tr>\n",
       "    <tr>\n",
       "      <th>max</th>\n",
       "      <td>5874.000000</td>\n",
       "      <td>42.000000</td>\n",
       "      <td>85.000000</td>\n",
       "      <td>1.000000</td>\n",
       "      <td>215.490000</td>\n",
       "      <td>39.511000</td>\n",
       "      <td>54.992000</td>\n",
       "      <td>0.099990</td>\n",
       "      <td>0.000446</td>\n",
       "      <td>0.057540</td>\n",
       "      <td>...</td>\n",
       "      <td>2.107000</td>\n",
       "      <td>0.162670</td>\n",
       "      <td>0.167020</td>\n",
       "      <td>0.275460</td>\n",
       "      <td>0.488020</td>\n",
       "      <td>0.748260</td>\n",
       "      <td>37.875000</td>\n",
       "      <td>0.966080</td>\n",
       "      <td>0.865600</td>\n",
       "      <td>0.731730</td>\n",
       "    </tr>\n",
       "  </tbody>\n",
       "</table>\n",
       "<p>8 rows × 23 columns</p>\n",
       "</div>"
      ],
      "text/plain": [
       "             index     subject#          age          sex    test_time   \n",
       "count  5875.000000  5875.000000  5875.000000  5875.000000  5875.000000  \\\n",
       "mean   2937.000000    21.494128    64.804936     0.317787    92.863722   \n",
       "std    1696.110747    12.372279     8.821524     0.465656    53.445602   \n",
       "min       0.000000     1.000000    36.000000     0.000000    -4.262500   \n",
       "25%    1468.500000    10.000000    58.000000     0.000000    46.847500   \n",
       "50%    2937.000000    22.000000    65.000000     0.000000    91.523000   \n",
       "75%    4405.500000    33.000000    72.000000     1.000000   138.445000   \n",
       "max    5874.000000    42.000000    85.000000     1.000000   215.490000   \n",
       "\n",
       "       motor_UPDRS  total_UPDRS    Jitter(%)  Jitter(Abs)   Jitter:RAP  ...   \n",
       "count  5875.000000  5875.000000  5875.000000  5875.000000  5875.000000  ...  \\\n",
       "mean     21.296229    29.018942     0.006154     0.000044     0.002987  ...   \n",
       "std       8.129282    10.700283     0.005624     0.000036     0.003124  ...   \n",
       "min       5.037700     7.000000     0.000830     0.000002     0.000330  ...   \n",
       "25%      15.000000    21.371000     0.003580     0.000022     0.001580  ...   \n",
       "50%      20.871000    27.576000     0.004900     0.000035     0.002250  ...   \n",
       "75%      27.596500    36.399000     0.006800     0.000053     0.003290  ...   \n",
       "max      39.511000    54.992000     0.099990     0.000446     0.057540  ...   \n",
       "\n",
       "       Shimmer(dB)  Shimmer:APQ3  Shimmer:APQ5  Shimmer:APQ11  Shimmer:DDA   \n",
       "count  5875.000000   5875.000000   5875.000000    5875.000000  5875.000000  \\\n",
       "mean      0.310960      0.017156      0.020144       0.027481     0.051467   \n",
       "std       0.230254      0.013237      0.016664       0.019986     0.039711   \n",
       "min       0.026000      0.001610      0.001940       0.002490     0.004840   \n",
       "25%       0.175000      0.009280      0.010790       0.015665     0.027830   \n",
       "50%       0.253000      0.013700      0.015940       0.022710     0.041110   \n",
       "75%       0.365000      0.020575      0.023755       0.032715     0.061735   \n",
       "max       2.107000      0.162670      0.167020       0.275460     0.488020   \n",
       "\n",
       "               NHR          HNR         RPDE          DFA          PPE  \n",
       "count  5875.000000  5875.000000  5875.000000  5875.000000  5875.000000  \n",
       "mean      0.032120    21.679495     0.541473     0.653240     0.219589  \n",
       "std       0.059692     4.291096     0.100986     0.070902     0.091498  \n",
       "min       0.000286     1.659000     0.151020     0.514040     0.021983  \n",
       "25%       0.010955    19.406000     0.469785     0.596180     0.156340  \n",
       "50%       0.018448    21.920000     0.542250     0.643600     0.205500  \n",
       "75%       0.031463    24.444000     0.614045     0.711335     0.264490  \n",
       "max       0.748260    37.875000     0.966080     0.865600     0.731730  \n",
       "\n",
       "[8 rows x 23 columns]"
      ]
     },
     "execution_count": 1,
     "metadata": {},
     "output_type": "execute_result"
    }
   ],
   "source": [
    "import pandas as pd\n",
    "import seaborn as sns\n",
    "import matplotlib.pyplot as plt\n",
    "import category_encoders as ce\n",
    "from sklearn.model_selection import train_test_split, cross_val_score\n",
    "from sklearn.ensemble import RandomForestRegressor\n",
    "from sklearn.neural_network import MLPRegressor\n",
    "from sklearn.model_selection import GridSearchCV\n",
    "from sklearn.tree import DecisionTreeRegressor\n",
    "from sklearn.metrics import accuracy_score, mean_squared_error, mean_absolute_error\n",
    "plt.rcParams[\"font.family\"] = \"serif\"\n",
    "plt.rcParams[\"pdf.fonttype\"] = 42\n",
    "df = pd.read_csv(\"./parkinsons_updrs.data.csv\")\n",
    "df.describe()"
   ]
  },
  {
   "cell_type": "code",
   "execution_count": 2,
   "id": "89314cd5-3036-40dd-94b2-219c79116242",
   "metadata": {
    "id": "89314cd5-3036-40dd-94b2-219c79116242"
   },
   "outputs": [],
   "source": [
    "df[\"difference\"] = df[\"total_UPDRS\"] - df[\"motor_UPDRS\"]\n",
    "#Remove features\n",
    "df = df.drop(\"index\", axis=1)\n",
    "df = df.drop(\"subject#\", axis=1)\n",
    "df = df.drop(\"test_time\", axis=1)\n",
    "df = df.drop(\"total_UPDRS\", axis=1)\n",
    "df = df.drop(\"sex\", axis=1)\n",
    "df = df.drop(\"HNR\", axis=1)\n",
    "df = df.drop(\"Jitter:RAP\", axis=1)\n",
    "df = df.drop(\"Jitter(%)\", axis=1)\n",
    "df = df.drop(\"Jitter:PPQ5\", axis=1)\n",
    "df = df.drop(\"Jitter:DDP\", axis=1)\n",
    "df = df.drop(\"Shimmer:APQ3\", axis=1)\n",
    "df = df.drop(\"Shimmer:APQ5\", axis=1)\n",
    "df = df.drop(\"Shimmer(dB)\", axis=1)\n",
    "df = df.drop(\"Shimmer:DDA\", axis=1)\n",
    "df = df.drop(\"Shimmer\", axis=1)\n",
    "df = df.drop(\"NHR\", axis=1)"
   ]
  },
  {
   "cell_type": "code",
   "execution_count": 3,
   "id": "d1077d62-d1e8-4c16-96c2-8e6b05881061",
   "metadata": {
    "colab": {
     "base_uri": "https://localhost:8080/",
     "height": 646
    },
    "id": "d1077d62-d1e8-4c16-96c2-8e6b05881061",
    "outputId": "aaae79bf-23ff-4dc8-e2bf-ca37a7f1cb7c"
   },
   "outputs": [
    {
     "data": {
      "text/html": [
       "<div>\n",
       "<style scoped>\n",
       "    .dataframe tbody tr th:only-of-type {\n",
       "        vertical-align: middle;\n",
       "    }\n",
       "\n",
       "    .dataframe tbody tr th {\n",
       "        vertical-align: top;\n",
       "    }\n",
       "\n",
       "    .dataframe thead th {\n",
       "        text-align: right;\n",
       "    }\n",
       "</style>\n",
       "<table border=\"1\" class=\"dataframe\">\n",
       "  <thead>\n",
       "    <tr style=\"text-align: right;\">\n",
       "      <th></th>\n",
       "      <th>age</th>\n",
       "      <th>motor_UPDRS</th>\n",
       "      <th>Jitter(Abs)</th>\n",
       "      <th>Shimmer:APQ11</th>\n",
       "      <th>RPDE</th>\n",
       "      <th>DFA</th>\n",
       "      <th>PPE</th>\n",
       "      <th>difference</th>\n",
       "    </tr>\n",
       "  </thead>\n",
       "  <tbody>\n",
       "    <tr>\n",
       "      <th>count</th>\n",
       "      <td>5875.000000</td>\n",
       "      <td>5875.000000</td>\n",
       "      <td>5875.000000</td>\n",
       "      <td>5875.000000</td>\n",
       "      <td>5875.000000</td>\n",
       "      <td>5875.000000</td>\n",
       "      <td>5875.000000</td>\n",
       "      <td>5875.000000</td>\n",
       "    </tr>\n",
       "    <tr>\n",
       "      <th>mean</th>\n",
       "      <td>64.804936</td>\n",
       "      <td>21.296229</td>\n",
       "      <td>0.000044</td>\n",
       "      <td>0.027481</td>\n",
       "      <td>0.541473</td>\n",
       "      <td>0.653240</td>\n",
       "      <td>0.219589</td>\n",
       "      <td>7.722714</td>\n",
       "    </tr>\n",
       "    <tr>\n",
       "      <th>std</th>\n",
       "      <td>8.821524</td>\n",
       "      <td>8.129282</td>\n",
       "      <td>0.000036</td>\n",
       "      <td>0.019986</td>\n",
       "      <td>0.100986</td>\n",
       "      <td>0.070902</td>\n",
       "      <td>0.091498</td>\n",
       "      <td>3.973699</td>\n",
       "    </tr>\n",
       "    <tr>\n",
       "      <th>min</th>\n",
       "      <td>36.000000</td>\n",
       "      <td>5.037700</td>\n",
       "      <td>0.000002</td>\n",
       "      <td>0.002490</td>\n",
       "      <td>0.151020</td>\n",
       "      <td>0.514040</td>\n",
       "      <td>0.021983</td>\n",
       "      <td>0.025100</td>\n",
       "    </tr>\n",
       "    <tr>\n",
       "      <th>25%</th>\n",
       "      <td>58.000000</td>\n",
       "      <td>15.000000</td>\n",
       "      <td>0.000022</td>\n",
       "      <td>0.015665</td>\n",
       "      <td>0.469785</td>\n",
       "      <td>0.596180</td>\n",
       "      <td>0.156340</td>\n",
       "      <td>5.144000</td>\n",
       "    </tr>\n",
       "    <tr>\n",
       "      <th>50%</th>\n",
       "      <td>65.000000</td>\n",
       "      <td>20.871000</td>\n",
       "      <td>0.000035</td>\n",
       "      <td>0.022710</td>\n",
       "      <td>0.542250</td>\n",
       "      <td>0.643600</td>\n",
       "      <td>0.205500</td>\n",
       "      <td>7.188000</td>\n",
       "    </tr>\n",
       "    <tr>\n",
       "      <th>75%</th>\n",
       "      <td>72.000000</td>\n",
       "      <td>27.596500</td>\n",
       "      <td>0.000053</td>\n",
       "      <td>0.032715</td>\n",
       "      <td>0.614045</td>\n",
       "      <td>0.711335</td>\n",
       "      <td>0.264490</td>\n",
       "      <td>9.681000</td>\n",
       "    </tr>\n",
       "    <tr>\n",
       "      <th>max</th>\n",
       "      <td>85.000000</td>\n",
       "      <td>39.511000</td>\n",
       "      <td>0.000446</td>\n",
       "      <td>0.275460</td>\n",
       "      <td>0.966080</td>\n",
       "      <td>0.865600</td>\n",
       "      <td>0.731730</td>\n",
       "      <td>20.931000</td>\n",
       "    </tr>\n",
       "  </tbody>\n",
       "</table>\n",
       "</div>"
      ],
      "text/plain": [
       "               age  motor_UPDRS  Jitter(Abs)  Shimmer:APQ11         RPDE   \n",
       "count  5875.000000  5875.000000  5875.000000    5875.000000  5875.000000  \\\n",
       "mean     64.804936    21.296229     0.000044       0.027481     0.541473   \n",
       "std       8.821524     8.129282     0.000036       0.019986     0.100986   \n",
       "min      36.000000     5.037700     0.000002       0.002490     0.151020   \n",
       "25%      58.000000    15.000000     0.000022       0.015665     0.469785   \n",
       "50%      65.000000    20.871000     0.000035       0.022710     0.542250   \n",
       "75%      72.000000    27.596500     0.000053       0.032715     0.614045   \n",
       "max      85.000000    39.511000     0.000446       0.275460     0.966080   \n",
       "\n",
       "               DFA          PPE   difference  \n",
       "count  5875.000000  5875.000000  5875.000000  \n",
       "mean      0.653240     0.219589     7.722714  \n",
       "std       0.070902     0.091498     3.973699  \n",
       "min       0.514040     0.021983     0.025100  \n",
       "25%       0.596180     0.156340     5.144000  \n",
       "50%       0.643600     0.205500     7.188000  \n",
       "75%       0.711335     0.264490     9.681000  \n",
       "max       0.865600     0.731730    20.931000  "
      ]
     },
     "execution_count": 3,
     "metadata": {},
     "output_type": "execute_result"
    }
   ],
   "source": [
    "df.describe()"
   ]
  },
  {
   "cell_type": "markdown",
   "id": "rR-5e2mta5E4",
   "metadata": {
    "id": "rR-5e2mta5E4"
   },
   "source": [
    "# Create the variable where you want to create a regressor, *age*."
   ]
  },
  {
   "cell_type": "code",
   "execution_count": 4,
   "id": "ee582725-be88-4717-87f4-6fd908d912a9",
   "metadata": {
    "id": "ee582725-be88-4717-87f4-6fd908d912a9"
   },
   "outputs": [],
   "source": [
    "Y = df[\"age\"]\n",
    "X = df.drop(\"age\", axis=1)"
   ]
  },
  {
   "cell_type": "code",
   "execution_count": 5,
   "id": "512f3762-bd2e-4dab-b30b-84e53a98fc06",
   "metadata": {
    "colab": {
     "base_uri": "https://localhost:8080/",
     "height": 430
    },
    "id": "512f3762-bd2e-4dab-b30b-84e53a98fc06",
    "outputId": "4360ddcc-1bfd-40ce-c708-a251687fdeb8"
   },
   "outputs": [
    {
     "data": {
      "image/png": "[encoded data removed]",
      "text/plain": [
       "<Figure size 432x288 with 1 Axes>"
      ]
     },
     "metadata": {
      "needs_background": "light"
     },
     "output_type": "display_data"
    }
   ],
   "source": [
    "plt.hist(Y);"
   ]
  },
  {
   "cell_type": "code",
   "execution_count": 6,
   "id": "310bc02b-e8ed-4412-bca1-50f9d0e08b65",
   "metadata": {
    "colab": {
     "base_uri": "https://localhost:8080/",
     "height": 539
    },
    "id": "310bc02b-e8ed-4412-bca1-50f9d0e08b65",
    "outputId": "4363ccaf-dfd4-43b9-a86c-b5ec2f0f26bc"
   },
   "outputs": [
    {
     "data": {
      "image/png": "[encoded data removed]",
      "text/plain": [
       "<Figure size 432x288 with 2 Axes>"
      ]
     },
     "metadata": {
      "needs_background": "light"
     },
     "output_type": "display_data"
    }
   ],
   "source": [
    "cor_matrix = X.corr()\n",
    "sns.heatmap(cor_matrix, annot=False, cmap = \"coolwarm\");"
   ]
  },
  {
   "cell_type": "markdown",
   "id": "_9J-_UqPjpfP",
   "metadata": {
    "id": "_9J-_UqPjpfP"
   },
   "source": [
    "In the following cell, we will follow the methodology used from David Landup in https://stackabuse.com/scikit-learns-traintestsplit-training-testing-and-validation-sets/. \n",
    "\n",
    "\"To split the data proportionally into a training, testing and validation set - we need to set the $test$ argument to\"\n",
    "$$\n",
    "test = \\frac{validation}{train+test}.\n",
    "$$\n",
    "\n",
    "This will allow for the creation of the $train$, $validation$, and $test$ dataset to be seperated into specified sizes."
   ]
  },
  {
   "cell_type": "code",
   "execution_count": 7,
   "id": "e5bb43e8-2b97-41b3-a6d9-131cb9ba3b40",
   "metadata": {
    "id": "e5bb43e8-2b97-41b3-a6d9-131cb9ba3b40"
   },
   "outputs": [],
   "source": [
    "# Split the data into train, validation, and test sets\n",
    "train_ratio = 0.70\n",
    "test_ratio = 0.15\n",
    "validation_ratio = 0.15\n",
    "\n",
    "X_train, X_test, Y_train, Y_test = train_test_split(X, Y, test_size=test_ratio)\n",
    "X_train, X_valid, Y_train, Y_valid = train_test_split(X_train, Y_train, test_size=validation_ratio/(train_ratio+test_ratio))\n"
   ]
  },
  {
   "cell_type": "code",
   "execution_count": 8,
   "id": "81252924-332d-4008-9ddc-459f39c9cc84",
   "metadata": {},
   "outputs": [
    {
     "name": "stdout",
     "output_type": "stream",
     "text": [
      "(4111, 7)\n",
      "(882, 7)\n",
      "(882, 7)\n"
     ]
    }
   ],
   "source": [
    "print(X_train.shape)\n",
    "print(X_valid.shape)\n",
    "print(X_test.shape)\n",
    "X_test.to_csv('test.csv', index=False)"
   ]
  },
  {
   "cell_type": "markdown",
   "id": "5293c612-d875-4f1e-9d1e-6568e4ce0361",
   "metadata": {
    "id": "5293c612-d875-4f1e-9d1e-6568e4ce0361"
   },
   "source": [
    "# Generate the Models."
   ]
  },
  {
   "cell_type": "markdown",
   "id": "FZQx-n-feubW",
   "metadata": {
    "id": "FZQx-n-feubW"
   },
   "source": [
    "## Linear Regression."
   ]
  },
  {
   "cell_type": "code",
   "execution_count": 8,
   "id": "fj1nh2oVeqUL",
   "metadata": {
    "colab": {
     "base_uri": "https://localhost:8080/"
    },
    "id": "fj1nh2oVeqUL",
    "outputId": "44e009d6-cd20-4d39-d9f9-b637933586f4"
   },
   "outputs": [
    {
     "name": "stdout",
     "output_type": "stream",
     "text": [
      "RMSE: 8.335\n",
      "MAE: 6.557\n"
     ]
    }
   ],
   "source": [
    "from sklearn.linear_model import LinearRegression\n",
    "from sklearn.metrics import mean_squared_error, mean_absolute_error\n",
    "import numpy as np\n",
    "\n",
    "model = LinearRegression()\n",
    "model.fit(X_train, Y_train)\n",
    "pred = model.predict(X_valid)\n",
    "\n",
    "mse = mean_squared_error(Y_valid, pred)\n",
    "rmse = np.sqrt(mse)\n",
    "mae = mean_absolute_error(Y_valid, pred)\n",
    "\n",
    "print(\"RMSE: {:.3f}\".format(rmse))\n",
    "print(\"MAE: {:.3f}\".format(mae))"
   ]
  },
  {
   "cell_type": "markdown",
   "id": "3bd8c494-1d0c-4c4b-a539-c56d2774a183",
   "metadata": {
    "id": "3bd8c494-1d0c-4c4b-a539-c56d2774a183"
   },
   "source": [
    "## Decision Tree Regressor."
   ]
  },
  {
   "cell_type": "code",
   "execution_count": 9,
   "id": "78330e5e-c542-4e67-ba31-036523ec3713",
   "metadata": {
    "colab": {
     "base_uri": "https://localhost:8080/"
    },
    "id": "78330e5e-c542-4e67-ba31-036523ec3713",
    "outputId": "805da9da-2fa4-4c11-8b79-3cbd7c8489fd"
   },
   "outputs": [
    {
     "name": "stdout",
     "output_type": "stream",
     "text": [
      "Best Hyperparameters:  {'criterion': 'absolute_error', 'max_depth': 15}\n",
      "Validation RMSE: 4.297\n",
      "Validation MAE: 1.352\n"
     ]
    }
   ],
   "source": [
    "from sklearn.tree import DecisionTreeRegressor\n",
    "dt_model = DecisionTreeRegressor()\n",
    "# create a grid search object\n",
    "\n",
    "param_grid = {\n",
    "    \"criterion\": ['squared_error', 'absolute_error', 'poisson', 'friedman_mse'],\n",
    "    'max_depth': [5, 10, 15]\n",
    "}\n",
    "\n",
    "grid_search = GridSearchCV(dt_model, param_grid, cv=5)\n",
    "\n",
    "# fit the grid search object to the training data\n",
    "grid_search.fit(X_train, Y_train)\n",
    "\n",
    "# get the best hyperparameters\n",
    "best_params = grid_search.best_params_\n",
    "\n",
    "# create a new random forest regressor with the best hyperparameters\n",
    "dt_model = DecisionTreeRegressor(max_depth=best_params['max_depth'], criterion=best_params[\"criterion\"])\n",
    "\n",
    "# fit the model to the training data\n",
    "dt_model.fit(X_train, Y_train)\n",
    "\n",
    "# generate predictions on the training data\n",
    "dt_train_pred = dt_model.predict(X_train)\n",
    "\n",
    "# evaluate the model on the validation data\n",
    "dt_valid_pred = dt_model.predict(X_valid)\n",
    "\n",
    "rmse_dt = mean_squared_error(Y_valid, dt_valid_pred, squared=False)\n",
    "mae_dt = mean_absolute_error(Y_valid, dt_valid_pred)\n",
    "#accuracy = accuracy_score(Y_valid, dt_valid_pred)\n",
    "\n",
    "print(\"Best Hyperparameters: \", best_params)\n",
    "print(\"Validation RMSE: {:.3f}\".format(rmse_dt))\n",
    "print(\"Validation MAE: {:.3f}\".format(mae_dt))"
   ]
  },
  {
   "cell_type": "markdown",
   "id": "nBbe9MYUpqRJ",
   "metadata": {
    "id": "nBbe9MYUpqRJ"
   },
   "source": [
    "## Random Forest Regressor."
   ]
  },
  {
   "cell_type": "code",
   "execution_count": 10,
   "id": "r9_NmdYsnOU9",
   "metadata": {
    "id": "r9_NmdYsnOU9"
   },
   "outputs": [
    {
     "name": "stdout",
     "output_type": "stream",
     "text": [
      "Best Hyperparameters:  {'criterion': 'friedman_mse', 'max_depth': 15, 'n_estimators': 1000}\n",
      "Validation RMSE: 2.750\n",
      "Validation MAE: 1.557\n"
     ]
    }
   ],
   "source": [
    "# create a random forest regressor object\n",
    "rf_model = RandomForestRegressor()\n",
    "\n",
    "# define the grid search parameters\n",
    "param_grid = {\n",
    "    \"criterion\": ['squared_error', 'absolute_error', 'poisson', 'friedman_mse'],\n",
    "    'n_estimators': [100, 500, 1000],\n",
    "    'max_depth': [5, 10, 15]\n",
    "}\n",
    "\n",
    "# create a grid search object\n",
    "grid_search = GridSearchCV(rf_model, param_grid, cv=5)\n",
    "\n",
    "# fit the grid search object to the training data\n",
    "grid_search.fit(X_train, Y_train)\n",
    "\n",
    "# get the best hyperparameters\n",
    "best_params = grid_search.best_params_\n",
    "\n",
    "# create a new random forest regressor with the best hyperparameters\n",
    "rf_model = RandomForestRegressor(n_estimators=best_params['n_estimators'], max_depth=best_params['max_depth'], criterion=best_params[\"criterion\"])\n",
    "\n",
    "# fit the model to the training data\n",
    "rf_model.fit(X_train, Y_train)\n",
    "\n",
    "# generate predictions on the training data\n",
    "rf_train_pred = rf_model.predict(X_train)\n",
    "\n",
    "# evaluate the model on the valid data\n",
    "rf_valid_pred = rf_model.predict(X_valid)\n",
    "\n",
    "rmse_rf = mean_squared_error(Y_valid, rf_valid_pred, squared=False)\n",
    "mae_rf = mean_absolute_error(Y_valid, rf_valid_pred)\n",
    "\n",
    "print(\"Best Hyperparameters: \", best_params)\n",
    "print(\"Validation RMSE: {:.3f}\".format(rmse_rf))\n",
    "print(\"Validation MAE: {:.3f}\".format(mae_rf))\n"
   ]
  },
  {
   "cell_type": "code",
   "execution_count": null,
   "id": "e536fefe",
   "metadata": {},
   "outputs": [],
   "source": [
    "rf_model = RandomForestRegressor(n_estimators=1000, max_depth=15, criterion='friedman_mse')\n",
    "rf_model.fit(X_train, Y_train)\n",
    "\n",
    "# generate predictions on the training data\n",
    "rf_train_pred = rf_model.predict(X_train)\n",
    "\n",
    "# evaluate the model on the valid data\n",
    "rf_valid_pred = rf_model.predict(X_valid)"
   ]
  },
  {
   "cell_type": "markdown",
   "id": "1a8afba6-4136-4a5e-bf9c-38740f15dc25",
   "metadata": {
    "id": "1a8afba6-4136-4a5e-bf9c-38740f15dc25"
   },
   "source": [
    "## Neural Network Regressor."
   ]
  },
  {
   "cell_type": "code",
   "execution_count": 11,
   "id": "94c5fbbc-d9d2-4aea-9736-b9b44fd6f859",
   "metadata": {
    "id": "94c5fbbc-d9d2-4aea-9736-b9b44fd6f859"
   },
   "outputs": [
    {
     "name": "stdout",
     "output_type": "stream",
     "text": [
      "Best hyperparameters: {'activation': 'tanh', 'alpha': 0.01, 'hidden_layer_sizes': (32, 16), 'max_iter': 1000}\n",
      "Validation RMSE: 8.840\n",
      "Validation MAE: 7.077\n"
     ]
    }
   ],
   "source": [
    "NN_model = MLPRegressor()\n",
    "params = {\n",
    "    'hidden_layer_sizes': [(64,), (32, 16), (64, 32, 16)],\n",
    "    'max_iter': [500, 1000, 2000],\n",
    "    'alpha':[0.1, 0.01, 0.001],\n",
    "    'activation': ['relu', 'tanh', 'logistic']\n",
    "}\n",
    "\n",
    "# Perform a grid search over the hyperparameters\n",
    "grid_search = GridSearchCV(NN_model, param_grid=params, cv=5, n_jobs=-1, scoring='neg_mean_squared_error')\n",
    "grid_search.fit(X_train, Y_train)\n",
    "\n",
    "# Print the best hyperparameters and the associated mean test score\n",
    "print(\"Best hyperparameters:\", grid_search.best_params_)\n",
    "\n",
    "# Use the best model to make predictions on the training and testing data\n",
    "best_model = grid_search.best_estimator_\n",
    "Y_pred_train = best_model.predict(X_train)\n",
    "Y_pred_valid = best_model.predict(X_valid)\n",
    "\n",
    "# Compute the RMSE and MAE for the training and testing data\n",
    "rmse_valid = mean_squared_error(Y_valid, Y_pred_valid, squared=False)\n",
    "mae_valid = mean_absolute_error(Y_valid, Y_pred_valid)\n",
    "print(\"Validation RMSE: {:.3f}\".format(rmse_valid))\n",
    "print(\"Validation MAE: {:.3f}\".format(mae_valid))\n"
   ]
  },
  {
   "cell_type": "markdown",
   "id": "7d835ddd-baee-4b18-ada9-035094b0ef48",
   "metadata": {
    "id": "7d835ddd-baee-4b18-ada9-035094b0ef48",
    "tags": []
   },
   "source": [
    "## eXtreme Gradient Boosting (XGB) Regressor."
   ]
  },
  {
   "cell_type": "code",
   "execution_count": 9,
   "id": "454674a8-8b37-48ad-9836-0b683bc026cb",
   "metadata": {
    "id": "454674a8-8b37-48ad-9836-0b683bc026cb"
   },
   "outputs": [
    {
     "name": "stdout",
     "output_type": "stream",
     "text": [
      "Fitting 5 folds for each of 81 candidates, totalling 405 fits\n"
     ]
    },
    {
     "name": "stderr",
     "output_type": "stream",
     "text": [
      "C:\\Users\\18145\\anaconda3\\lib\\site-packages\\xgboost\\sklearn.py:835: UserWarning: `early_stopping_rounds` in `fit` method is deprecated for better compatibility with scikit-learn, use `early_stopping_rounds` in constructor or`set_params` instead.\n",
      "  warnings.warn(\n"
     ]
    },
    {
     "name": "stdout",
     "output_type": "stream",
     "text": [
      "Best hyperparameters:  {'colsample_bytree': 1.0, 'learning_rate': 0.05, 'max_depth': 9, 'n_estimators': 1000}\n"
     ]
    },
    {
     "ename": "NameError",
     "evalue": "name 'Y_pred_valid' is not defined",
     "output_type": "error",
     "traceback": [
      "\u001b[1;31m---------------------------------------------------------------------------\u001b[0m",
      "\u001b[1;31mNameError\u001b[0m                                 Traceback (most recent call last)",
      "Cell \u001b[1;32mIn[9], line 30\u001b[0m\n\u001b[0;32m     28\u001b[0m y_pred_valid \u001b[38;5;241m=\u001b[39m grid_search\u001b[38;5;241m.\u001b[39mpredict(X_valid)\n\u001b[0;32m     29\u001b[0m rmse_valid \u001b[38;5;241m=\u001b[39m mean_squared_error(Y_valid, y_pred_valid, squared\u001b[38;5;241m=\u001b[39m\u001b[38;5;28;01mFalse\u001b[39;00m)\n\u001b[1;32m---> 30\u001b[0m mae_valid \u001b[38;5;241m=\u001b[39m mean_absolute_error(Y_valid, \u001b[43mY_pred_valid\u001b[49m)\n\u001b[0;32m     31\u001b[0m \u001b[38;5;28mprint\u001b[39m(\u001b[38;5;124m\"\u001b[39m\u001b[38;5;124mValidation RMSE: \u001b[39m\u001b[38;5;132;01m{:.3f}\u001b[39;00m\u001b[38;5;124m\"\u001b[39m\u001b[38;5;241m.\u001b[39mformat(rmse_valid))\n\u001b[0;32m     32\u001b[0m \u001b[38;5;28mprint\u001b[39m(\u001b[38;5;124m\"\u001b[39m\u001b[38;5;124mValidation MAE: \u001b[39m\u001b[38;5;132;01m{:.3f}\u001b[39;00m\u001b[38;5;124m\"\u001b[39m\u001b[38;5;241m.\u001b[39mformat(mae_valid))\n",
      "\u001b[1;31mNameError\u001b[0m: name 'Y_pred_valid' is not defined"
     ]
    }
   ],
   "source": [
    "import xgboost as xgb\n",
    "#Define the XGBoost model\n",
    "xgb_model = xgb.XGBRegressor()\n",
    "\n",
    "# Define the hyperparameter grid\n",
    "param_grid = {\n",
    "    'n_estimators': [100, 500, 1000],\n",
    "    'learning_rate': [0.01, 0.05, 0.1],\n",
    "    'max_depth': [3, 6, 9],\n",
    "    'colsample_bytree': [0.5, 0.7, 1.0],\n",
    "}\n",
    "\n",
    "# Perform grid search\n",
    "grid_search = GridSearchCV(\n",
    "    estimator=xgb_model,\n",
    "    param_grid=param_grid,\n",
    "    cv=5,\n",
    "    scoring='neg_root_mean_squared_error',\n",
    "    n_jobs=-1,\n",
    "    verbose=2\n",
    ")\n",
    "\n",
    "grid_search.fit(X_train, Y_train, early_stopping_rounds=10, eval_set=[(X_valid, Y_valid)], verbose=False)\n",
    "\n",
    "# Print the best hyperparameters and the corresponding RMSE\n",
    "print(\"Best hyperparameters: \", grid_search.best_params_)\n",
    "y_train_pred = grid_search.predict(X_train)\n",
    "y_pred_valid = grid_search.predict(X_valid)\n",
    "rmse_valid = mean_squared_error(Y_valid, y_pred_valid, squared=False)\n",
    "mae_valid = mean_absolute_error(Y_valid, y_pred_valid)\n",
    "print(\"Validation RMSE: {:.3f}\".format(rmse_valid))\n",
    "print(\"Validation MAE: {:.3f}\".format(mae_valid))"
   ]
  },
  {
   "cell_type": "code",
   "execution_count": 10,
   "id": "ba75de6b-bb82-4c53-aee4-575781cbb602",
   "metadata": {},
   "outputs": [
    {
     "name": "stdout",
     "output_type": "stream",
     "text": [
      "Validation RMSE: 2.780\n",
      "Validation MAE: 1.655\n"
     ]
    }
   ],
   "source": [
    "rmse_valid = mean_squared_error(Y_valid, y_pred_valid, squared=False)\n",
    "mae_valid = mean_absolute_error(Y_valid, y_pred_valid)\n",
    "print(\"Validation RMSE: {:.3f}\".format(rmse_valid))\n",
    "print(\"Validation MAE: {:.3f}\".format(mae_valid))"
   ]
  },
  {
   "cell_type": "markdown",
   "id": "1f9d0fac-845d-4be9-be71-778b88340fb2",
   "metadata": {},
   "source": [
    "# Choose Random Forest Regressor."
   ]
  },
  {
   "cell_type": "code",
   "execution_count": 18,
   "id": "07038b7c-a774-4cd6-a4d8-45b62f62e0e3",
   "metadata": {},
   "outputs": [],
   "source": [
    "import pickle\n",
    "\n",
    "with open('./models/predicition_model.pkl', 'wb') as pickler:\n",
    "    pickle.dump(rf_model, pickler)"
   ]
  },
  {
   "cell_type": "code",
   "execution_count": null,
   "id": "84e06687-f50c-4ee5-9c61-b913365f6184",
   "metadata": {},
   "outputs": [],
   "source": []
  }
 ],
 "metadata": {
  "accelerator": "GPU",
  "colab": {
   "gpuType": "T4",
   "provenance": []
  },
  "kernelspec": {
   "display_name": "Python 3 (ipykernel)",
   "language": "python",
   "name": "python3"
  },
  "language_info": {
   "codemirror_mode": {
    "name": "ipython",
    "version": 3
   },
   "file_extension": ".py",
   "mimetype": "text/x-python",
   "name": "python",
   "nbconvert_exporter": "python",
   "pygments_lexer": "ipython3",
   "version": "3.9.12"
  }
 },
 "nbformat": 4,
 "nbformat_minor": 5
}
